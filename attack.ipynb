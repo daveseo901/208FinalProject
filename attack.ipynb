{
 "cells": [
  {
   "cell_type": "code",
   "execution_count": 3,
   "id": "e0dd5274",
   "metadata": {},
   "outputs": [],
   "source": [
    "import numpy as np\n",
    "import pandas as pd\n",
    "import re"
   ]
  },
  {
   "cell_type": "code",
   "execution_count": 7,
   "id": "ffe05fe2",
   "metadata": {},
   "outputs": [],
   "source": [
    "def coords_to_list(coords: str):\n",
    "    return re.split(', ', coords.replace(\"(\", \"\").replace(\")\", \"\"))\n",
    "\n",
    "def time_to_int(time: str):\n",
    "    (h, m, s) = time.split(':')\n",
    "    result = int(h) * 3600 + int(m) * 60 + int(s)\n",
    "    return result\n",
    "\n",
    "def date_to_int(date: str):\n",
    "    (y, m , d) = date.split('-')\n",
    "    result = int(y + m + d)\n",
    "    return result\n",
    "\n",
    "def carrier_to_int(carrier: str):\n",
    "    return ord(carrier[0])"
   ]
  },
  {
   "cell_type": "code",
   "execution_count": 24,
   "id": "5664003b",
   "metadata": {},
   "outputs": [
    {
     "name": "stdout",
     "output_type": "stream",
     "text": [
      "         date   time  carrier                                  location\n",
      "0    20140704  62100       97                  [40.8161391, -73.904608]\n",
      "1    20140706  45180       97                 [40.8192885, -73.8997237]\n",
      "2    20140707  17100       97                 [40.8152388, -73.9160874]\n",
      "3    20140709  42840       97   [40.81610072727273, -73.90402954545455]\n",
      "4    20140709  68460       97                  [40.815306, -73.8987435]\n",
      "..        ...    ...      ...                                       ...\n",
      "738  20140928  26280      112   [40.87678204081632, -73.85872673469387]\n",
      "739  20140928  33180      112               [40.8768236875, -73.853798]\n",
      "740  20140929  31680      112                 [40.8350854, -73.9118444]\n",
      "741  20140929  61200      112  [40.859985040816326, -73.84296128571428]\n",
      "742  20140930  85140      112  [40.848002300000005, -73.84378242145698]\n",
      "\n",
      "[743 rows x 4 columns]\n"
     ]
    }
   ],
   "source": [
    "# a dataframe containing the data to be attacked\n",
    "data: pd.DataFrame = pd.read_csv(\"small_data.csv\")\n",
    "\n",
    "# convert all columns to integers to make random queries possible \n",
    "time = list(map(time_to_int, data[\"time\"]))\n",
    "date = list(map(date_to_int, data[\"date\"]))\n",
    "carriers = list(map(carrier_to_int, data[\"carrier\"]))\n",
    "coords = list(map(coords_to_list, data[\"location\"]))\n",
    "\n",
    "data = pd.DataFrame({\"date\": date, \"time\": time, \"carrier\": carriers, \"location\": coords})\n",
    "\n",
    "\n",
    "print(data)\n",
    "# pd.DataFrame = \n",
    "n = data.shape[0]\n",
    "\n",
    "# names of public identifier columns\n",
    "pub = [\"time\", \"date\", \"carrier\"]\n",
    "\n",
    "# variable to reconstruct\n",
    "target = \"location\"\n",
    "\n",
    "longitude = [float(i[0]) for i in data[target]]\n",
    "latitude = [float(i[1]) for i in data[target]]\n",
    "def execute_subsetsums_exact(predicates):\n",
    "    \"\"\"Count the number of citizens that satisfy each predicate.\n",
    "    Resembles a public query interface on a sequestered dataset.\n",
    "    Computed as in equation (1).\n",
    "\n",
    "    :param predicates: a list of predicates on the public variables\n",
    "    :returns a 1-d np.ndarray of exact answers the subset sum queries\"\"\"\n",
    "#     print(sum([pred(data) for pred in predicates]))\n",
    "    long = longitude @ np.stack([pred(data) for pred in predicates], axis=1)\n",
    "    lat = latitude @ np.stack([pred(data) for pred in predicates], axis=1)\n",
    "    return long, lat"
   ]
  },
  {
   "cell_type": "code",
   "execution_count": 27,
   "id": "8c3229e4",
   "metadata": {},
   "outputs": [
    {
     "name": "stdout",
     "output_type": "stream",
     "text": [
      "(array([10221.06905585]), array([-18774.64417989]))\n"
     ]
    }
   ],
   "source": [
    "##### EXAMPLE: writing and using predicates\n",
    "num_female_citizens = execute_subsetsums_exact([\n",
    "    lambda data: data['carrier'] == 112])\n",
    "print(num_female_citizens)"
   ]
  },
  {
   "cell_type": "code",
   "execution_count": 29,
   "id": "d7039854",
   "metadata": {},
   "outputs": [],
   "source": [
    "def make_random_predicate():\n",
    "    \"\"\"Returns a (pseudo)random predicate function by hashing public identifiers.\"\"\"\n",
    "    prime = 691\n",
    "    desc = np.random.randint(prime, size=len(pub))\n",
    "    # this predicate maps data into a 1-d ndarray of booleans\n",
    "    #   (where `@` is the dot product and `%` modulus)\n",
    "    return lambda data: ((data[pub].values @ desc) % prime % 2).astype(bool)"
   ]
  },
  {
   "cell_type": "code",
   "execution_count": 85,
   "id": "6d26b245",
   "metadata": {},
   "outputs": [],
   "source": [
    "def reconstruction_attack(data_pub, predicates, answers):\n",
    "    \"\"\"Reconstructs a target column based on the `answers` to queries about `data`.\n",
    "\n",
    "    :param data_pub: data of length n consisting of public identifiers\n",
    "    :param predicates: a list of k predicate functions\n",
    "    :param answers: a list of k answers to a query on data filtered by the k predicates\n",
    "    :return 1-dimensional boolean ndarray\"\"\"\n",
    "    # solve system of linear equations using ranodm predicates\n",
    "    a = np.array([pred(data_pub) for pred in predicates])\n",
    "    \n",
    "    b = np.array([answer for answer in answers[0]])\n",
    "    sol_long = np.linalg.lstsq(a, b, rcond=None)[0]\n",
    "    \n",
    "    b = np.array([answer for answer in answers[1]])\n",
    "    sol_lat = np.linalg.lstsq(a, b, rcond=None)[0]\n",
    "\n",
    "    \n",
    "    return list(zip(sol_long, sol_lat))\n",
    "    \n",
    "#     sol_list = [[1] if x[0] > 0.5 else [0] for x in solution[0].tolist()]\n",
    "#     return np.array(sol_list, dtype=int)"
   ]
  },
  {
   "cell_type": "code",
   "execution_count": 99,
   "id": "a11fb372",
   "metadata": {},
   "outputs": [
    {
     "name": "stdout",
     "output_type": "stream",
     "text": [
      "longitude 98.92328398384926\n",
      "latitude 99.32705248990578\n",
      "exact location 98.51951547779272\n"
     ]
    }
   ],
   "source": [
    "def test_reconstruction_attack(): \n",
    "    preds = [make_random_predicate() for i in range(n)]\n",
    "    ans = execute_subsetsums_exact(preds)\n",
    "    recon = reconstruction_attack(data, preds, ans)\n",
    "\n",
    "    long = [round(float(data[target][i][0]), 5) == round(recon[i][0], 5) for i in range(n)]\n",
    "    lat = [round(float(data[target][i][1]), 5) == round(recon[i][1], 5) for i in range(n)]\n",
    "    # return longitude percentage correct \n",
    "    print(\"longitude\", 100 * (sum(long) / n))\n",
    "\n",
    "    # return latitude percentage correct \n",
    "    print(\"latitude\", 100 * (sum(lat) / n))\n",
    "\n",
    "    print(\"exact location\", 100 * (sum([1 if (i[0] == True and i[1] == True) else 0 for i in list(zip(long, lat))]) / n))\n",
    "test_reconstruction_attack()"
   ]
  },
  {
   "cell_type": "code",
   "execution_count": null,
   "id": "4db2b881",
   "metadata": {},
   "outputs": [],
   "source": []
  }
 ],
 "metadata": {
  "kernelspec": {
   "display_name": "Python 3 (ipykernel)",
   "language": "python",
   "name": "python3"
  },
  "language_info": {
   "codemirror_mode": {
    "name": "ipython",
    "version": 3
   },
   "file_extension": ".py",
   "mimetype": "text/x-python",
   "name": "python",
   "nbconvert_exporter": "python",
   "pygments_lexer": "ipython3",
   "version": "3.9.10"
  }
 },
 "nbformat": 4,
 "nbformat_minor": 5
}
