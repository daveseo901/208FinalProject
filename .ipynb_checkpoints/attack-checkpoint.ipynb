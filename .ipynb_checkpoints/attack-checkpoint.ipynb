{
 "cells": [
  {
   "cell_type": "code",
   "execution_count": 100,
   "id": "e0dd5274",
   "metadata": {},
   "outputs": [],
   "source": [
    "import numpy as np\n",
    "import pandas as pd\n",
    "import re"
   ]
  },
  {
   "cell_type": "code",
   "execution_count": 107,
   "id": "ffe05fe2",
   "metadata": {},
   "outputs": [],
   "source": [
    "def coords_to_list(coords: str):\n",
    "    return re.split(', ', coords.replace(\"(\", \"\").replace(\")\", \"\"))\n",
    "\n",
    "def time_to_int(time: str):\n",
    "    (h, m, s) = time.split(':')\n",
    "    result = int(h) * 3600 + int(m) * 60 + int(s)\n",
    "    return result\n",
    "\n",
    "def date_to_int(date: str):\n",
    "    (y, m, d) = date.split('-')\n",
    "    result = int(y + m + d)\n",
    "    return result\n",
    "\n",
    "def carrier_to_int(carrier: str):\n",
    "    # since no carriers share the same first letter, just set category to ASCII of first letter\n",
    "    return ord(carrier[0])"
   ]
  },
  {
   "cell_type": "code",
   "execution_count": 109,
   "id": "5664003b",
   "metadata": {},
   "outputs": [
    {
     "name": "stdout",
     "output_type": "stream",
     "text": [
      "          date   time  carrier                                 location\n",
      "0     20140704  62100       97                 [40.8161391, -73.904608]\n",
      "1     20140706  45180       97                [40.8192885, -73.8997237]\n",
      "2     20140707  17100       97                [40.8152388, -73.9160874]\n",
      "3     20140709  42840       97  [40.81610072727273, -73.90402954545455]\n",
      "4     20140709  68460       97                 [40.815306, -73.8987435]\n",
      "...        ...    ...      ...                                      ...\n",
      "3391  20140930  30480      117                      [40.7843, -73.9585]\n",
      "3392  20140930  46860      117                      [40.7287, -73.9548]\n",
      "3393  20140930  54000      117            [40.7764, -73.94800000000001]\n",
      "3394  20140930  58320      117                      [40.7758, -73.9507]\n",
      "3395  20140930  70200      117                      [40.7587, -73.9775]\n",
      "\n",
      "[3396 rows x 4 columns]\n"
     ]
    }
   ],
   "source": [
    "# a dataframe containing the data to be attacked\n",
    "data: pd.DataFrame = pd.read_csv(\"small_data.csv\")\n",
    "\n",
    "# convert all columns to integers to make random queries possible \n",
    "time = list(map(time_to_int, data[\"time\"]))\n",
    "date = list(map(date_to_int, data[\"date\"]))\n",
    "carriers = list(map(carrier_to_int, data[\"carrier\"]))\n",
    "coords = list(map(coords_to_list, data[\"location\"]))\n",
    "\n",
    "data = pd.DataFrame({\"date\": date, \"time\": time, \"carrier\": carriers, \"location\": coords})\n",
    "\n",
    "\n",
    "print(data)\n",
    "# pd.DataFrame = \n",
    "n = data.shape[0]\n",
    "\n",
    "# names of public identifier columns\n",
    "pub = [\"time\", \"date\", \"carrier\"]\n",
    "\n",
    "# variable to reconstruct\n",
    "target = \"location\"\n",
    "\n",
    "longitude = [float(i[0]) for i in data[target]]\n",
    "latitude = [float(i[1]) for i in data[target]]\n",
    "def execute_subsetsums_exact(predicates):\n",
    "    \"\"\"Count the number of citizens that satisfy each predicate.\n",
    "    Resembles a public query interface on a sequestered dataset.\n",
    "    Computed as in equation (1).\n",
    "\n",
    "    :param predicates: a list of predicates on the public variables\n",
    "    :returns a 1-d np.ndarray of exact answers the subset sum queries\"\"\"\n",
    "#     print(sum([pred(data) for pred in predicates]))\n",
    "    long = longitude @ np.stack([pred(data) for pred in predicates], axis=1)\n",
    "    lat = latitude @ np.stack([pred(data) for pred in predicates], axis=1)\n",
    "    return long, lat"
   ]
  },
  {
   "cell_type": "code",
   "execution_count": 111,
   "id": "d7039854",
   "metadata": {},
   "outputs": [],
   "source": [
    "def make_random_predicate():\n",
    "    \"\"\"Returns a (pseudo)random predicate function by hashing public identifiers.\"\"\"\n",
    "    prime = 691\n",
    "    desc = np.random.randint(prime, size=len(pub))\n",
    "    # this predicate maps data into a 1-d ndarray of booleans\n",
    "    #   (where `@` is the dot product and `%` modulus)\n",
    "    return lambda data: ((data[pub].values @ desc) % prime % 2).astype(bool)"
   ]
  },
  {
   "cell_type": "code",
   "execution_count": 112,
   "id": "6d26b245",
   "metadata": {},
   "outputs": [],
   "source": [
    "def reconstruction_attack(data_pub, predicates, answers):\n",
    "    \"\"\"Reconstructs a target column based on the `answers` to queries about `data`.\n",
    "\n",
    "    :param data_pub: data of length n consisting of public identifiers\n",
    "    :param predicates: a list of k predicate functions\n",
    "    :param answers: a list of k answers to a query on data filtered by the k predicates\n",
    "    :return 1-dimensional boolean ndarray\"\"\"\n",
    "    # solve system of linear equations using ranodm predicates\n",
    "    a = np.array([pred(data_pub) for pred in predicates])\n",
    "    \n",
    "    b = np.array([answer for answer in answers[0]])\n",
    "    sol_long = np.linalg.lstsq(a, b, rcond=None)[0]\n",
    "    \n",
    "    b = np.array([answer for answer in answers[1]])\n",
    "    sol_lat = np.linalg.lstsq(a, b, rcond=None)[0]\n",
    "\n",
    "    \n",
    "    return list(zip(sol_long, sol_lat))\n",
    "    \n",
    "#     sol_list = [[1] if x[0] > 0.5 else [0] for x in solution[0].tolist()]\n",
    "#     return np.array(sol_list, dtype=int)"
   ]
  },
  {
   "cell_type": "code",
   "execution_count": 117,
   "id": "a11fb372",
   "metadata": {},
   "outputs": [
    {
     "name": "stdout",
     "output_type": "stream",
     "text": [
      "longitude 96.99646643109541\n",
      "latitude 96.96702002355713\n",
      "exact location 96.87868080094229\n"
     ]
    }
   ],
   "source": [
    "def test_reconstruction_attack(): \n",
    "    preds = [make_random_predicate() for i in range(n)]\n",
    "    ans = execute_subsetsums_exact(preds)\n",
    "    recon = reconstruction_attack(data, preds, ans)\n",
    "    \n",
    "    precision = 8\n",
    "    long = [round(float(data[target][i][0]), precision) == round(recon[i][0], precision) for i in range(n)]\n",
    "    lat = [round(float(data[target][i][1]), precision) == round(recon[i][1], precision) for i in range(n)]\n",
    "    # return longitude percentage correct \n",
    "    print(\"longitude\", 100 * (sum(long) / n))\n",
    "\n",
    "    # return latitude percentage correct \n",
    "    print(\"latitude\", 100 * (sum(lat) / n))\n",
    "\n",
    "    print(\"exact location\", 100 * (sum([1 if (i[0] == True and i[1] == True) else 0 for i in list(zip(long, lat))]) / n))\n",
    "test_reconstruction_attack()"
   ]
  },
  {
   "cell_type": "code",
   "execution_count": null,
   "id": "4db2b881",
   "metadata": {},
   "outputs": [],
   "source": [
    "def execute_subsetsums_gaussian(sigma, predicates):\n",
    "    \"\"\"Count the number of trips that satisfy each predicate.\n",
    "    Resembles a public query interface on a sequestered dataset.\n",
    "\n",
    "    :param predicates: a list of predicates on the public variables\n",
    "    :returns a 1-d np.ndarray of noisy answers the subset sum queries\"\"\"\n",
    "    raw = data[target].values @ np.stack([pred(data) for pred in predicates], axis=1)\n",
    "    noise = np.random.normal(0, sigma, len(raw))\n",
    "    return list(map(sum, zip(raw, noise)))\n",
    "\n",
    "def execute_subsetsums_gaussian(sigma, predicates):\n",
    "    \"\"\"Count the number of trips that satisfy each predicate.\n",
    "    Resembles a public query interface on a sequestered dataset.\n",
    "\n",
    "    :param predicates: a list of predicates on the public variables\n",
    "    :returns a 1-d np.ndarray of noisy answers the subset sum queries\"\"\"\n",
    "    raw = data[target].values @ np.stack([pred(data) for pred in predicates], axis=1)\n",
    "    noise = np.random.normal(0, sigma, len(raw))\n",
    "    return list(map(sum, zip(raw, noise)))"
   ]
  }
 ],
 "metadata": {
  "kernelspec": {
   "display_name": "Python 3",
   "language": "python",
   "name": "python3"
  },
  "language_info": {
   "codemirror_mode": {
    "name": "ipython",
    "version": 3
   },
   "file_extension": ".py",
   "mimetype": "text/x-python",
   "name": "python",
   "nbconvert_exporter": "python",
   "pygments_lexer": "ipython3",
   "version": "3.6.9"
  }
 },
 "nbformat": 4,
 "nbformat_minor": 5
}
